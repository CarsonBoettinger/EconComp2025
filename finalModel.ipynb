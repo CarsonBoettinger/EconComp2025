{
 "cells": [
  {
   "cell_type": "code",
   "execution_count": null,
   "metadata": {},
   "outputs": [],
   "source": [
    "import pandas as pd \n",
    "import numpy as np\n",
    "import matplotlib.pyplot as plt"
   ]
  },
  {
   "cell_type": "code",
   "execution_count": null,
   "metadata": {},
   "outputs": [],
   "source": [
    "# Getting the training dataset\n",
    "df = pd.read_csv('traindata.csv')"
   ]
  },
  {
   "cell_type": "code",
   "execution_count": null,
   "metadata": {},
   "outputs": [],
   "source": [
    "# Creating the X and y variables\n",
    "y = df['hrlyearn']\n",
    "# Set the feature variables X as the rest of the columns in df\n",
    "# Drop multiple variables from the dataframe\n",
    "drop_columns = ['hrlyearn', 'mjh', 'cowmain', 'atothrs', 'paidot', 'union', 'permtemp', \"rec_num\"] \n",
    "X = df.drop(drop_columns, axis=1)"
   ]
  }
 ],
 "metadata": {
  "kernelspec": {
   "display_name": "work",
   "language": "python",
   "name": "python3"
  },
  "language_info": {
   "name": "python",
   "version": "3.9.19"
  }
 },
 "nbformat": 4,
 "nbformat_minor": 2
}
